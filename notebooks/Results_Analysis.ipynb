{
 "cells": [
  {
   "cell_type": "markdown",
   "metadata": {},
   "source": [
    "#  Results and Analysis"
   ]
  },
  {
   "cell_type": "code",
   "execution_count": 1,
   "metadata": {},
   "outputs": [],
   "source": [
    "from sklearn.dummy import DummyClassifier\n",
    "import pandas as pd\n",
    "from scipy import sparse\n",
    "import pickle\n",
    "import re\n",
    "import numpy as np\n",
    "import seaborn as sns\n",
    "import matplotlib.pyplot as plt\n",
    "from nltk.corpus import stopwords\n",
    "from sklearn.metrics import accuracy_score, confusion_matrix, classification_report"
   ]
  },
  {
   "cell_type": "markdown",
   "metadata": {},
   "source": [
    "## Training errors"
   ]
  },
  {
   "cell_type": "code",
   "execution_count": 16,
   "metadata": {},
   "outputs": [
    {
     "data": {
      "text/html": [
       "<div>\n",
       "<style scoped>\n",
       "    .dataframe tbody tr th:only-of-type {\n",
       "        vertical-align: middle;\n",
       "    }\n",
       "\n",
       "    .dataframe tbody tr th {\n",
       "        vertical-align: top;\n",
       "    }\n",
       "\n",
       "    .dataframe thead th {\n",
       "        text-align: right;\n",
       "    }\n",
       "</style>\n",
       "<table border=\"1\" class=\"dataframe\">\n",
       "  <thead>\n",
       "    <tr style=\"text-align: right;\">\n",
       "      <th></th>\n",
       "      <th>Train</th>\n",
       "      <th>Validate</th>\n",
       "    </tr>\n",
       "  </thead>\n",
       "  <tbody>\n",
       "    <tr>\n",
       "      <th>0</th>\n",
       "      <td>0.551830</td>\n",
       "      <td>0.571996</td>\n",
       "    </tr>\n",
       "    <tr>\n",
       "      <th>1</th>\n",
       "      <td>0.414130</td>\n",
       "      <td>0.472075</td>\n",
       "    </tr>\n",
       "    <tr>\n",
       "      <th>2</th>\n",
       "      <td>0.349027</td>\n",
       "      <td>0.446983</td>\n",
       "    </tr>\n",
       "    <tr>\n",
       "      <th>3</th>\n",
       "      <td>0.297446</td>\n",
       "      <td>0.443454</td>\n",
       "    </tr>\n",
       "    <tr>\n",
       "      <th>4</th>\n",
       "      <td>0.251611</td>\n",
       "      <td>0.448819</td>\n",
       "    </tr>\n",
       "  </tbody>\n",
       "</table>\n",
       "</div>"
      ],
      "text/plain": [
       "      Train  Validate\n",
       "0  0.551830  0.571996\n",
       "1  0.414130  0.472075\n",
       "2  0.349027  0.446983\n",
       "3  0.297446  0.443454\n",
       "4  0.251611  0.448819"
      ]
     },
     "execution_count": 16,
     "metadata": {},
     "output_type": "execute_result"
    }
   ],
   "source": [
    "file = '../../PycharmProjects/Case_Study_NLP/train_errors/loss_hist_train_h128_product.csv'\n",
    "train_errors = pd.read_csv(file).drop(['Unnamed: 0'], axis=1)\n",
    "train_errors.head()"
   ]
  },
  {
   "cell_type": "code",
   "execution_count": 17,
   "metadata": {},
   "outputs": [
    {
     "data": {
      "image/png": "[encoded data removed]",
      "text/plain": [
       "<Figure size 720x432 with 1 Axes>"
      ]
     },
     "metadata": {
      "needs_background": "light"
     },
     "output_type": "display_data"
    }
   ],
   "source": [
    "ax = train_errors.plot(legend=True, title='FNN: Training errors', figsize=(10,6))\n",
    "ax.set_xlabel('Epochs')\n",
    "ax.set_ylabel('Cross Entropy Loss');"
   ]
  },
  {
   "cell_type": "markdown",
   "metadata": {},
   "source": [
    " Model 3 was selected for prediction. <br/> See training output below for misclassification rate on validation data"
   ]
  },
  {
   "cell_type": "markdown",
   "metadata": {},
   "source": [
    "**Epoch 0/10**\n",
    "<br/>Misclassification Rate: 16.532%\n",
    "<br/>**Epoch 1/10**\n",
    "<br/>Misclassification Rate: 14.143%\n",
    "<br/>**Epoch 2/10**\n",
    "<br/>Misclassification Rate: 13.472%\n",
    "<br/>**Epoch 3/10**\n",
    "<br/>Misclassification Rate: 13.466%\n",
    "<br/>**Epoch 4/10**\n",
    "<br/>Misclassification Rate: 13.584%\n",
    "<br/>**Epoch 5/10**\n",
    "<br/>Misclassification Rate: 13.825%\n",
    "<br/>**Epoch 6/10**\n",
    "<br/>Misclassification Rate: 14.166%\n",
    "<br/>**Epoch 7/10**\n",
    "<br/>Misclassification Rate: 14.507%\n",
    "<br/>**Epoch 8/10**\n",
    "<br/>Misclassification Rate: 14.759%\n",
    "<br/>**Epoch 9/10**\n",
    "<br/>Misclassification Rate: 15.268%\n",
    "<br/>**Epoch 10/10**\n",
    "<br/>Misclassification Rate: 15.626%"
   ]
  },
  {
   "cell_type": "markdown",
   "metadata": {},
   "source": [
    "## Test predictions"
   ]
  },
  {
   "cell_type": "markdown",
   "metadata": {},
   "source": [
    "Besides standard performance metrics, how can we judge if the model is learning or merely having luck with random guessing?"
   ]
  },
  {
   "cell_type": "markdown",
   "metadata": {},
   "source": [
    "### Establish baseline"
   ]
  },
  {
   "cell_type": "code",
   "execution_count": 18,
   "metadata": {},
   "outputs": [],
   "source": [
    "# Get training data, which the model was also trained on\n",
    "X_train = sparse.load_npz('X_train_product.npz')\n",
    "dataset_file = 'dataset_product.pickle'\n",
    "with open(dataset_file, 'rb') as handle:\n",
    "    dataset = pickle.load(handle)\n",
    "y_train = dataset['y_train']"
   ]
  },
  {
   "cell_type": "code",
   "execution_count": 19,
   "metadata": {},
   "outputs": [],
   "source": [
    "# Get untransformed test data\n",
    "X_test = dataset['X_test']\n",
    "y_test = dataset['y_test']\n",
    "\n",
    "\n",
    "# Transform data\n",
    "def clean_raw_text(text_as_series, tf_file, stopwords):\n",
    "    tf = pickle.load(open(tf_file, 'rb'))\n",
    "    series = text_as_series.reset_index(drop=True)\n",
    "\n",
    "    def clean_num_punct(text):\n",
    "        text = re.sub(r'([^a-zA-Z ]+?)', ' ', text)\n",
    "        text = text.replace('X', '')\n",
    "        text = text.replace('\\n', ' ')\n",
    "        return text.lower()\n",
    "\n",
    "    series = series.apply(clean_num_punct)\n",
    "    series = series.apply(lambda x: ' '.join([word for word in x.split() if word not in stopwords and len(word) > 1]))\n",
    "    matrix = tf.transform(series)\n",
    "    return matrix\n",
    "\n",
    "X_test_matrix = clean_raw_text(text_as_series=X_test,\n",
    "                                tf_file='tfidf_vec_product.pkl',\n",
    "                                stopwords=stopwords.words('english'))"
   ]
  },
  {
   "cell_type": "code",
   "execution_count": 20,
   "metadata": {},
   "outputs": [],
   "source": [
    "#print(X_test_matrix.shape, y_test.shape)\n",
    "y_train = np.delete(y_train, 72576) # See *Note* in preprocessing nb\n",
    "#print(X_train.shape, y_train.shape)"
   ]
  },
  {
   "cell_type": "code",
   "execution_count": 21,
   "metadata": {},
   "outputs": [
    {
     "name": "stdout",
     "output_type": "stream",
     "text": [
      "stratified accuracy: 0.166\n",
      "most_frequent accuracy: 0.246\n",
      "prior accuracy: 0.246\n",
      "uniform accuracy: 0.084\n"
     ]
    }
   ],
   "source": [
    "# Train dummy classifier to make predictions based on the class frequency\n",
    "ways = ['stratified','most_frequent','prior','uniform']\n",
    "for way in ways:\n",
    "    new_dummy_classifier = DummyClassifier(strategy=way)\n",
    "    new_dummy_classifier.fit(X_train,y_train)\n",
    "    # Make predictions on transformed test data\n",
    "    pred = new_dummy_classifier.predict(X_test_matrix)\n",
    "    print(way + ' accuracy: ' + str(round(accuracy_score(y_test, pred), 3)))"
   ]
  },
  {
   "cell_type": "markdown",
   "metadata": {},
   "source": [
    "-------"
   ]
  },
  {
   "cell_type": "markdown",
   "metadata": {},
   "source": [
    "### Test predictions"
   ]
  },
  {
   "cell_type": "code",
   "execution_count": 25,
   "metadata": {},
   "outputs": [],
   "source": [
    "#Update this, needs to run\n",
    "results = pd.read_csv('../../PyCharmProjects/Case_Study_NLP/data/model_3_test_predictions.csv')"
   ]
  },
  {
   "cell_type": "code",
   "execution_count": 26,
   "metadata": {},
   "outputs": [
    {
     "name": "stdout",
     "output_type": "stream",
     "text": [
      "Accuracy: 0.8645833333333334\n"
     ]
    }
   ],
   "source": [
    "print('Accuracy: ' + str(accuracy_score(results['True'], results['Pred'])))"
   ]
  },
  {
   "cell_type": "code",
   "execution_count": 2,
   "metadata": {},
   "outputs": [],
   "source": [
    "le = pickle.load(open('label_encoder_product.pickle', 'rb'))\n",
    "#cm = confusion_matrix(results['True'], results['Pred'])\n",
    "#df_cm = pd.DataFrame(cm) # Without class names\n",
    "##df_cm = pd.DataFrame(cm, index = [i for i in le.classes_],\n",
    "##                     columns = [i for i in le.classes_])\n",
    "#plt.figure(figsize = (10,8))\n",
    "#plt.title('Test predictions')\n",
    "#sns.heatmap(df_cm, annot=True, fmt=\"d\");"
   ]
  },
  {
   "cell_type": "code",
   "execution_count": 1,
   "metadata": {},
   "outputs": [],
   "source": [
    "#le.classes_"
   ]
  },
  {
   "cell_type": "code",
   "execution_count": 28,
   "metadata": {},
   "outputs": [
    {
     "data": {
      "image/png": "[encoded data removed]",
      "text/plain": [
       "<Figure size 720x576 with 2 Axes>"
      ]
     },
     "metadata": {
      "needs_background": "light"
     },
     "output_type": "display_data"
    }
   ],
   "source": [
    "new_df = df_cm.copy()\n",
    "for i in range(df_cm.shape[0]):\n",
    "    for j in range(df_cm.shape[1]):\n",
    "        new_df.iloc[i,j] = round(df_cm.iloc[i,j]/df_cm.iloc[i,:].sum(),2)\n",
    "plt.figure(figsize = (10,8))\n",
    "plt.title('Predictions as proportion of total positves')\n",
    "sns.heatmap(new_df, annot=True);"
   ]
  },
  {
   "cell_type": "code",
   "execution_count": null,
   "metadata": {},
   "outputs": [],
   "source": [
    "#print(classification_report(results['True'], results['Pred']))"
   ]
  },
  {
   "cell_type": "markdown",
   "metadata": {},
   "source": [
    "**Add ROC Curves for classes**"
   ]
  },
  {
   "cell_type": "code",
   "execution_count": null,
   "metadata": {},
   "outputs": [],
   "source": []
  },
  {
   "cell_type": "code",
   "execution_count": null,
   "metadata": {},
   "outputs": [],
   "source": []
  },
  {
   "cell_type": "code",
   "execution_count": null,
   "metadata": {},
   "outputs": [],
   "source": []
  },
  {
   "cell_type": "markdown",
   "metadata": {},
   "source": [
    "## Conclusions/Summary"
   ]
  },
  {
   "cell_type": "code",
   "execution_count": null,
   "metadata": {},
   "outputs": [],
   "source": []
  },
  {
   "cell_type": "code",
   "execution_count": null,
   "metadata": {},
   "outputs": [],
   "source": []
  },
  {
   "cell_type": "code",
   "execution_count": null,
   "metadata": {},
   "outputs": [],
   "source": []
  },
  {
   "cell_type": "code",
   "execution_count": null,
   "metadata": {},
   "outputs": [],
   "source": []
  }
 ],
 "metadata": {
  "kernelspec": {
   "display_name": "Python 3",
   "language": "python",
   "name": "python3"
  },
  "language_info": {
   "codemirror_mode": {
    "name": "ipython",
    "version": 3
   },
   "file_extension": ".py",
   "mimetype": "text/x-python",
   "name": "python",
   "nbconvert_exporter": "python",
   "pygments_lexer": "ipython3",
   "version": "3.6.7"
  }
 },
 "nbformat": 4,
 "nbformat_minor": 2
}
